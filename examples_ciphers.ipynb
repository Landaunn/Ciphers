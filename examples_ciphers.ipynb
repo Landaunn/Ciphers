{
 "cells": [
  {
   "cell_type": "markdown",
   "id": "3c448551",
   "metadata": {},
   "source": [
    "# Шифр цезаря"
   ]
  },
  {
   "cell_type": "code",
   "execution_count": 1,
   "id": "b4629c3f",
   "metadata": {},
   "outputs": [],
   "source": [
    "from cesar import Cesar"
   ]
  },
  {
   "cell_type": "code",
   "execution_count": 2,
   "id": "222da5d2",
   "metadata": {},
   "outputs": [],
   "source": [
    "cipher = Cesar(shift=1)"
   ]
  },
  {
   "cell_type": "markdown",
   "id": "63c0a6a8",
   "metadata": {},
   "source": [
    "#### Введём фразу, которую мы хотим зашифровать"
   ]
  },
  {
   "cell_type": "code",
   "execution_count": 3,
   "id": "3716c096",
   "metadata": {},
   "outputs": [
    {
     "name": "stdout",
     "output_type": "stream",
     "text": [
      "привет мир\n"
     ]
    }
   ],
   "source": [
    "phrase = str(input())"
   ]
  },
  {
   "cell_type": "markdown",
   "id": "965e267c",
   "metadata": {},
   "source": [
    "#### Зашифруем строку"
   ]
  },
  {
   "cell_type": "code",
   "execution_count": 4,
   "id": "ff973e57",
   "metadata": {},
   "outputs": [
    {
     "name": "stdout",
     "output_type": "stream",
     "text": [
      "рсйгёу нйс\n"
     ]
    }
   ],
   "source": [
    "encrypt_phrase = cipher.encrypt(phrase)\n",
    "print(encrypt_phrase)"
   ]
  },
  {
   "cell_type": "markdown",
   "id": "0466aa47",
   "metadata": {},
   "source": [
    "#### Дешифруем и убедимся, что получается исходная фраза"
   ]
  },
  {
   "cell_type": "code",
   "execution_count": 5,
   "id": "881b42ca",
   "metadata": {},
   "outputs": [
    {
     "name": "stdout",
     "output_type": "stream",
     "text": [
      "привет мир\n"
     ]
    }
   ],
   "source": [
    "decipher_phrase = cipher.decipher(encrypt_phrase)\n",
    "print(decipher_phrase)"
   ]
  },
  {
   "cell_type": "markdown",
   "id": "92b3324d",
   "metadata": {},
   "source": [
    "# Шифр с перестановкой"
   ]
  },
  {
   "cell_type": "code",
   "execution_count": 1,
   "id": "34ecb0c4",
   "metadata": {},
   "outputs": [],
   "source": [
    "from permutation import Permutation"
   ]
  },
  {
   "cell_type": "markdown",
   "id": "5e30d17a",
   "metadata": {},
   "source": [
    "#### Зададим перестановку алфавита"
   ]
  },
  {
   "cell_type": "code",
   "execution_count": 2,
   "id": "d01c5fd9",
   "metadata": {},
   "outputs": [],
   "source": [
    "permute = 'уфхцчшщъыьэюяабвгдеёжзийклмнопрст'"
   ]
  },
  {
   "cell_type": "code",
   "execution_count": 3,
   "id": "f4e49951",
   "metadata": {},
   "outputs": [],
   "source": [
    "cipher = Permutation(permute)"
   ]
  },
  {
   "cell_type": "markdown",
   "id": "83f2e0ca",
   "metadata": {},
   "source": [
    "#### Введём фразу, которую мы хотим зашифровать"
   ]
  },
  {
   "cell_type": "code",
   "execution_count": 4,
   "id": "dba5e131",
   "metadata": {},
   "outputs": [
    {
     "name": "stdout",
     "output_type": "stream",
     "text": [
      "привет мир\n"
     ]
    }
   ],
   "source": [
    "phrase = str(input())"
   ]
  },
  {
   "cell_type": "markdown",
   "id": "0f0bfb66",
   "metadata": {},
   "source": [
    "#### Зашифруем строку"
   ]
  },
  {
   "cell_type": "code",
   "execution_count": 5,
   "id": "f52e76ed",
   "metadata": {},
   "outputs": [
    {
     "name": "stdout",
     "output_type": "stream",
     "text": [
      "ьэхося щхэ\n"
     ]
    }
   ],
   "source": [
    "encrypt_phrase = cipher.encrypt(phrase)\n",
    "print(encrypt_phrase)"
   ]
  },
  {
   "cell_type": "markdown",
   "id": "771ab16b",
   "metadata": {},
   "source": [
    "#### Дешифруем и убедимся, что получается исходная фраза"
   ]
  },
  {
   "cell_type": "code",
   "execution_count": 6,
   "id": "7a015f59",
   "metadata": {},
   "outputs": [
    {
     "name": "stdout",
     "output_type": "stream",
     "text": [
      "привет мир\n"
     ]
    }
   ],
   "source": [
    "decipher_phrase = cipher.decipher(encrypt_phrase)\n",
    "print(decipher_phrase)"
   ]
  },
  {
   "cell_type": "markdown",
   "id": "315dcee7",
   "metadata": {},
   "source": [
    "# Гаммирование"
   ]
  },
  {
   "cell_type": "code",
   "execution_count": 1,
   "id": "df2de47f",
   "metadata": {},
   "outputs": [],
   "source": [
    "from gammas import Gamma"
   ]
  },
  {
   "cell_type": "code",
   "execution_count": 2,
   "id": "e16ceb7d",
   "metadata": {},
   "outputs": [],
   "source": [
    "cipher = Gamma()"
   ]
  },
  {
   "cell_type": "code",
   "execution_count": 3,
   "id": "b4f10bc9",
   "metadata": {},
   "outputs": [
    {
     "name": "stdout",
     "output_type": "stream",
     "text": [
      "привет мир\n"
     ]
    }
   ],
   "source": [
    "phrase = str(input())"
   ]
  },
  {
   "cell_type": "code",
   "execution_count": 4,
   "id": "ab8d416f",
   "metadata": {},
   "outputs": [
    {
     "name": "stdout",
     "output_type": "stream",
     "text": [
      "ມໞ຦ຬຫໜાຢ຦ໞ\n"
     ]
    }
   ],
   "source": [
    "encrypt_phrase = cipher.encrypt(phrase)\n",
    "print(encrypt_phrase)"
   ]
  },
  {
   "cell_type": "code",
   "execution_count": 5,
   "id": "e24f4818",
   "metadata": {},
   "outputs": [
    {
     "name": "stdout",
     "output_type": "stream",
     "text": [
      "привет мир\n"
     ]
    }
   ],
   "source": [
    "decipher_phrase = cipher.decipher(encrypt_phrase)\n",
    "print(decipher_phrase)"
   ]
  }
 ],
 "metadata": {
  "kernelspec": {
   "display_name": "Python 3 (ipykernel)",
   "language": "python",
   "name": "python3"
  },
  "language_info": {
   "codemirror_mode": {
    "name": "ipython",
    "version": 3
   },
   "file_extension": ".py",
   "mimetype": "text/x-python",
   "name": "python",
   "nbconvert_exporter": "python",
   "pygments_lexer": "ipython3",
   "version": "3.9.7"
  }
 },
 "nbformat": 4,
 "nbformat_minor": 5
}
